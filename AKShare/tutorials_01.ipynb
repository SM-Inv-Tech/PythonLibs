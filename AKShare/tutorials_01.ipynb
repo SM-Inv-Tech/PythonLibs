{
 "cells": [
  {
   "cell_type": "markdown",
   "metadata": {
    "collapsed": true,
    "pycharm": {
     "name": "#%% md\n"
    }
   },
   "source": [
    "## 期货基础数据"
   ]
  },
  {
   "cell_type": "code",
   "execution_count": 2,
   "outputs": [],
   "source": [
    "import akshare as ak"
   ],
   "metadata": {
    "collapsed": false,
    "pycharm": {
     "name": "#%%\n"
    }
   }
  },
  {
   "cell_type": "markdown",
   "source": [
    "### 期货手续费与保证金查询"
   ],
   "metadata": {
    "collapsed": false,
    "pycharm": {
     "name": "#%% md\n"
    }
   }
  },
  {
   "cell_type": "code",
   "execution_count": 3,
   "outputs": [
    {
     "data": {
      "text/plain": "       交易所名称    合约名称    合约代码       现价      涨停板      跌停板  保证金-买开  保证金-卖开  \\\n0    上海期货交易所  沪银2210  ag2210   4425.0   4867.0   3982.0      12      12   \n1    上海期货交易所  沪银2211  ag2211   4424.0   4866.0   3981.0      12      12   \n2    上海期货交易所  沪银2212  ag2212   4425.0   4867.0   3982.0      12      12   \n3    上海期货交易所  沪银2301  ag2301   4426.0   4868.0   3983.0      12      12   \n4    上海期货交易所  沪银2302  ag2302   4426.0   4868.0   3983.0      12      12   \n..       ...     ...     ...      ...      ...      ...     ...     ...   \n181  上海期货交易所  沪锌2305  zn2305  22740.0  25465.0  20010.0      14      14   \n182  上海期货交易所  沪锌2306  zn2306  22580.0  25285.0  19870.0      14      14   \n183  上海期货交易所  沪锌2307  zn2307  22560.0  25265.0  19850.0      14      14   \n184  上海期货交易所  沪锌2308  zn2308  22370.0  25050.0  19685.0      14      14   \n185  上海期货交易所  沪锌2309  zn2309  22265.0  24935.0  19590.0      14      14   \n\n      保证金-每手  手续费标准-开仓-万分之  ... 手续费标准-平昨-万分之      手续费标准-平昨-元 手续费标准-平今-万分之  \\\n0     7965.0       0.00005  ...      0.00005  0.5/万分之 (3.3元)      0.00005   \n1     7963.2       0.00005  ...      0.00005  0.5/万分之 (3.3元)      0.00005   \n2     7965.0       0.00005  ...      0.00005  0.5/万分之 (3.3元)      0.00005   \n3     7966.8       0.00001  ...      0.00001  0.1/万分之 (0.7元)      0.00001   \n4     7966.8       0.00001  ...      0.00001  0.1/万分之 (0.7元)      0.00001   \n..       ...           ...  ...          ...             ...          ...   \n181  15918.0           NaN  ...          NaN               3          NaN   \n182  15806.0           NaN  ...          NaN               3          NaN   \n183  15792.0           NaN  ...          NaN               3          NaN   \n184  15659.0           NaN  ...          NaN               3          NaN   \n185  15585.5           NaN  ...          NaN               3          NaN   \n\n         手续费标准-平今-元 每跳毛利  手续费  每跳净利    备注                  手续费更新时间  \\\n0    0.5/万分之 (3.3元)   15  6.6   8.4   NaN  2022-09-20 22:32:33.275   \n1    0.5/万分之 (3.3元)   15  6.6   8.4   NaN  2022-09-20 22:32:33.275   \n2    0.5/万分之 (3.3元)   15  6.6   8.4  主力合约  2022-09-20 22:32:33.275   \n3    0.1/万分之 (0.7元)   15  1.3  13.7   NaN  2022-09-20 22:32:33.275   \n4    0.1/万分之 (0.7元)   15  1.3  13.7   NaN  2022-09-20 22:32:33.275   \n..              ...  ...  ...   ...   ...                      ...   \n181               0   25  3.0  22.0   NaN  2022-09-20 22:32:33.275   \n182               0   25  3.0  22.0   NaN  2022-09-20 22:32:33.275   \n183               0   25  3.0  22.0   NaN  2022-09-20 22:32:33.275   \n184               0   25  3.0  22.0   NaN  2022-09-20 22:32:33.275   \n185               0   25  3.0  22.0   NaN  2022-09-20 22:32:33.275   \n\n                      价格更新时间  \n0    2022-09-21 15:31:04.224  \n1    2022-09-21 15:31:04.224  \n2    2022-09-21 15:31:04.224  \n3    2022-09-21 15:31:04.224  \n4    2022-09-21 15:31:04.224  \n..                       ...  \n181  2022-09-21 15:31:04.224  \n182  2022-09-21 15:31:04.224  \n183  2022-09-21 15:31:04.224  \n184  2022-09-21 15:31:04.224  \n185  2022-09-21 15:31:04.224  \n\n[186 rows x 21 columns]",
      "text/html": "<div>\n<style scoped>\n    .dataframe tbody tr th:only-of-type {\n        vertical-align: middle;\n    }\n\n    .dataframe tbody tr th {\n        vertical-align: top;\n    }\n\n    .dataframe thead th {\n        text-align: right;\n    }\n</style>\n<table border=\"1\" class=\"dataframe\">\n  <thead>\n    <tr style=\"text-align: right;\">\n      <th></th>\n      <th>交易所名称</th>\n      <th>合约名称</th>\n      <th>合约代码</th>\n      <th>现价</th>\n      <th>涨停板</th>\n      <th>跌停板</th>\n      <th>保证金-买开</th>\n      <th>保证金-卖开</th>\n      <th>保证金-每手</th>\n      <th>手续费标准-开仓-万分之</th>\n      <th>...</th>\n      <th>手续费标准-平昨-万分之</th>\n      <th>手续费标准-平昨-元</th>\n      <th>手续费标准-平今-万分之</th>\n      <th>手续费标准-平今-元</th>\n      <th>每跳毛利</th>\n      <th>手续费</th>\n      <th>每跳净利</th>\n      <th>备注</th>\n      <th>手续费更新时间</th>\n      <th>价格更新时间</th>\n    </tr>\n  </thead>\n  <tbody>\n    <tr>\n      <th>0</th>\n      <td>上海期货交易所</td>\n      <td>沪银2210</td>\n      <td>ag2210</td>\n      <td>4425.0</td>\n      <td>4867.0</td>\n      <td>3982.0</td>\n      <td>12</td>\n      <td>12</td>\n      <td>7965.0</td>\n      <td>0.00005</td>\n      <td>...</td>\n      <td>0.00005</td>\n      <td>0.5/万分之 (3.3元)</td>\n      <td>0.00005</td>\n      <td>0.5/万分之 (3.3元)</td>\n      <td>15</td>\n      <td>6.6</td>\n      <td>8.4</td>\n      <td>NaN</td>\n      <td>2022-09-20 22:32:33.275</td>\n      <td>2022-09-21 15:31:04.224</td>\n    </tr>\n    <tr>\n      <th>1</th>\n      <td>上海期货交易所</td>\n      <td>沪银2211</td>\n      <td>ag2211</td>\n      <td>4424.0</td>\n      <td>4866.0</td>\n      <td>3981.0</td>\n      <td>12</td>\n      <td>12</td>\n      <td>7963.2</td>\n      <td>0.00005</td>\n      <td>...</td>\n      <td>0.00005</td>\n      <td>0.5/万分之 (3.3元)</td>\n      <td>0.00005</td>\n      <td>0.5/万分之 (3.3元)</td>\n      <td>15</td>\n      <td>6.6</td>\n      <td>8.4</td>\n      <td>NaN</td>\n      <td>2022-09-20 22:32:33.275</td>\n      <td>2022-09-21 15:31:04.224</td>\n    </tr>\n    <tr>\n      <th>2</th>\n      <td>上海期货交易所</td>\n      <td>沪银2212</td>\n      <td>ag2212</td>\n      <td>4425.0</td>\n      <td>4867.0</td>\n      <td>3982.0</td>\n      <td>12</td>\n      <td>12</td>\n      <td>7965.0</td>\n      <td>0.00005</td>\n      <td>...</td>\n      <td>0.00005</td>\n      <td>0.5/万分之 (3.3元)</td>\n      <td>0.00005</td>\n      <td>0.5/万分之 (3.3元)</td>\n      <td>15</td>\n      <td>6.6</td>\n      <td>8.4</td>\n      <td>主力合约</td>\n      <td>2022-09-20 22:32:33.275</td>\n      <td>2022-09-21 15:31:04.224</td>\n    </tr>\n    <tr>\n      <th>3</th>\n      <td>上海期货交易所</td>\n      <td>沪银2301</td>\n      <td>ag2301</td>\n      <td>4426.0</td>\n      <td>4868.0</td>\n      <td>3983.0</td>\n      <td>12</td>\n      <td>12</td>\n      <td>7966.8</td>\n      <td>0.00001</td>\n      <td>...</td>\n      <td>0.00001</td>\n      <td>0.1/万分之 (0.7元)</td>\n      <td>0.00001</td>\n      <td>0.1/万分之 (0.7元)</td>\n      <td>15</td>\n      <td>1.3</td>\n      <td>13.7</td>\n      <td>NaN</td>\n      <td>2022-09-20 22:32:33.275</td>\n      <td>2022-09-21 15:31:04.224</td>\n    </tr>\n    <tr>\n      <th>4</th>\n      <td>上海期货交易所</td>\n      <td>沪银2302</td>\n      <td>ag2302</td>\n      <td>4426.0</td>\n      <td>4868.0</td>\n      <td>3983.0</td>\n      <td>12</td>\n      <td>12</td>\n      <td>7966.8</td>\n      <td>0.00001</td>\n      <td>...</td>\n      <td>0.00001</td>\n      <td>0.1/万分之 (0.7元)</td>\n      <td>0.00001</td>\n      <td>0.1/万分之 (0.7元)</td>\n      <td>15</td>\n      <td>1.3</td>\n      <td>13.7</td>\n      <td>NaN</td>\n      <td>2022-09-20 22:32:33.275</td>\n      <td>2022-09-21 15:31:04.224</td>\n    </tr>\n    <tr>\n      <th>...</th>\n      <td>...</td>\n      <td>...</td>\n      <td>...</td>\n      <td>...</td>\n      <td>...</td>\n      <td>...</td>\n      <td>...</td>\n      <td>...</td>\n      <td>...</td>\n      <td>...</td>\n      <td>...</td>\n      <td>...</td>\n      <td>...</td>\n      <td>...</td>\n      <td>...</td>\n      <td>...</td>\n      <td>...</td>\n      <td>...</td>\n      <td>...</td>\n      <td>...</td>\n      <td>...</td>\n    </tr>\n    <tr>\n      <th>181</th>\n      <td>上海期货交易所</td>\n      <td>沪锌2305</td>\n      <td>zn2305</td>\n      <td>22740.0</td>\n      <td>25465.0</td>\n      <td>20010.0</td>\n      <td>14</td>\n      <td>14</td>\n      <td>15918.0</td>\n      <td>NaN</td>\n      <td>...</td>\n      <td>NaN</td>\n      <td>3</td>\n      <td>NaN</td>\n      <td>0</td>\n      <td>25</td>\n      <td>3.0</td>\n      <td>22.0</td>\n      <td>NaN</td>\n      <td>2022-09-20 22:32:33.275</td>\n      <td>2022-09-21 15:31:04.224</td>\n    </tr>\n    <tr>\n      <th>182</th>\n      <td>上海期货交易所</td>\n      <td>沪锌2306</td>\n      <td>zn2306</td>\n      <td>22580.0</td>\n      <td>25285.0</td>\n      <td>19870.0</td>\n      <td>14</td>\n      <td>14</td>\n      <td>15806.0</td>\n      <td>NaN</td>\n      <td>...</td>\n      <td>NaN</td>\n      <td>3</td>\n      <td>NaN</td>\n      <td>0</td>\n      <td>25</td>\n      <td>3.0</td>\n      <td>22.0</td>\n      <td>NaN</td>\n      <td>2022-09-20 22:32:33.275</td>\n      <td>2022-09-21 15:31:04.224</td>\n    </tr>\n    <tr>\n      <th>183</th>\n      <td>上海期货交易所</td>\n      <td>沪锌2307</td>\n      <td>zn2307</td>\n      <td>22560.0</td>\n      <td>25265.0</td>\n      <td>19850.0</td>\n      <td>14</td>\n      <td>14</td>\n      <td>15792.0</td>\n      <td>NaN</td>\n      <td>...</td>\n      <td>NaN</td>\n      <td>3</td>\n      <td>NaN</td>\n      <td>0</td>\n      <td>25</td>\n      <td>3.0</td>\n      <td>22.0</td>\n      <td>NaN</td>\n      <td>2022-09-20 22:32:33.275</td>\n      <td>2022-09-21 15:31:04.224</td>\n    </tr>\n    <tr>\n      <th>184</th>\n      <td>上海期货交易所</td>\n      <td>沪锌2308</td>\n      <td>zn2308</td>\n      <td>22370.0</td>\n      <td>25050.0</td>\n      <td>19685.0</td>\n      <td>14</td>\n      <td>14</td>\n      <td>15659.0</td>\n      <td>NaN</td>\n      <td>...</td>\n      <td>NaN</td>\n      <td>3</td>\n      <td>NaN</td>\n      <td>0</td>\n      <td>25</td>\n      <td>3.0</td>\n      <td>22.0</td>\n      <td>NaN</td>\n      <td>2022-09-20 22:32:33.275</td>\n      <td>2022-09-21 15:31:04.224</td>\n    </tr>\n    <tr>\n      <th>185</th>\n      <td>上海期货交易所</td>\n      <td>沪锌2309</td>\n      <td>zn2309</td>\n      <td>22265.0</td>\n      <td>24935.0</td>\n      <td>19590.0</td>\n      <td>14</td>\n      <td>14</td>\n      <td>15585.5</td>\n      <td>NaN</td>\n      <td>...</td>\n      <td>NaN</td>\n      <td>3</td>\n      <td>NaN</td>\n      <td>0</td>\n      <td>25</td>\n      <td>3.0</td>\n      <td>22.0</td>\n      <td>NaN</td>\n      <td>2022-09-20 22:32:33.275</td>\n      <td>2022-09-21 15:31:04.224</td>\n    </tr>\n  </tbody>\n</table>\n<p>186 rows × 21 columns</p>\n</div>"
     },
     "execution_count": 3,
     "metadata": {},
     "output_type": "execute_result"
    }
   ],
   "source": [
    "futures_comm_info_df = ak.futures_comm_info(symbol=\"上海期货交易所\")\n",
    "futures_comm_info_df"
   ],
   "metadata": {
    "collapsed": false,
    "pycharm": {
     "name": "#%%\n"
    }
   }
  },
  {
   "cell_type": "markdown",
   "source": [
    "### 获取交易日历表"
   ],
   "metadata": {
    "collapsed": false,
    "pycharm": {
     "name": "#%% md\n"
    }
   }
  },
  {
   "cell_type": "code",
   "execution_count": 4,
   "outputs": [
    {
     "data": {
      "text/plain": "    交易所          品种    代码  交易保证金比例  涨跌停板幅度   合约乘数  最小变动价位  限价单每笔最大下单手数  \\\n0   上期所           铜    CU     19.0    10.0      5  10.000          500   \n1   上期所         铜期权  CU_O      NaN     NaN      5   2.000          100   \n2   上期所           铝    AL     20.0    10.0      5   5.000          500   \n3   上期所         铝期权  AL_O      NaN     NaN      5   1.000          100   \n4   上期所           锌    ZN     23.0    12.0      5   5.000          500   \n..  ...         ...   ...      ...     ...    ...     ...          ...   \n93  中金所   沪深300股指期权    IO      NaN     NaN    100   0.200           20   \n94  中金所  中证1000股指期权    MO      NaN     NaN    100   0.200           20   \n95  中金所       2年期国债    TS      0.8     0.5  20000   0.005           50   \n96  中金所       5年期国债    TF      1.7     1.2  10000   0.005           50   \n97  中金所      10年期国债     T      2.5     2.0  10000   0.005           50   \n\n                                      特殊合约参数调整 调整备注  \n0                                          NaN  NaN  \n1   期权卖方交易保证金中涉及标的期货合约的公司交易保证金按照对应的期货合约保证金标准收取  NaN  \n2                                          NaN  NaN  \n3   期权卖方交易保证金中涉及标的期货合约的公司交易保证金按照对应的期货合约保证金标准收取  NaN  \n4                                          NaN  NaN  \n..                                         ...  ...  \n93                      保证金调整系数为14%，最低保障系数为0.5  NaN  \n94                      保证金调整系数为17%，最低保障系数为0.5  NaN  \n95                                         NaN  NaN  \n96                                         NaN  NaN  \n97                                         NaN  NaN  \n\n[98 rows x 10 columns]",
      "text/html": "<div>\n<style scoped>\n    .dataframe tbody tr th:only-of-type {\n        vertical-align: middle;\n    }\n\n    .dataframe tbody tr th {\n        vertical-align: top;\n    }\n\n    .dataframe thead th {\n        text-align: right;\n    }\n</style>\n<table border=\"1\" class=\"dataframe\">\n  <thead>\n    <tr style=\"text-align: right;\">\n      <th></th>\n      <th>交易所</th>\n      <th>品种</th>\n      <th>代码</th>\n      <th>交易保证金比例</th>\n      <th>涨跌停板幅度</th>\n      <th>合约乘数</th>\n      <th>最小变动价位</th>\n      <th>限价单每笔最大下单手数</th>\n      <th>特殊合约参数调整</th>\n      <th>调整备注</th>\n    </tr>\n  </thead>\n  <tbody>\n    <tr>\n      <th>0</th>\n      <td>上期所</td>\n      <td>铜</td>\n      <td>CU</td>\n      <td>19.0</td>\n      <td>10.0</td>\n      <td>5</td>\n      <td>10.000</td>\n      <td>500</td>\n      <td>NaN</td>\n      <td>NaN</td>\n    </tr>\n    <tr>\n      <th>1</th>\n      <td>上期所</td>\n      <td>铜期权</td>\n      <td>CU_O</td>\n      <td>NaN</td>\n      <td>NaN</td>\n      <td>5</td>\n      <td>2.000</td>\n      <td>100</td>\n      <td>期权卖方交易保证金中涉及标的期货合约的公司交易保证金按照对应的期货合约保证金标准收取</td>\n      <td>NaN</td>\n    </tr>\n    <tr>\n      <th>2</th>\n      <td>上期所</td>\n      <td>铝</td>\n      <td>AL</td>\n      <td>20.0</td>\n      <td>10.0</td>\n      <td>5</td>\n      <td>5.000</td>\n      <td>500</td>\n      <td>NaN</td>\n      <td>NaN</td>\n    </tr>\n    <tr>\n      <th>3</th>\n      <td>上期所</td>\n      <td>铝期权</td>\n      <td>AL_O</td>\n      <td>NaN</td>\n      <td>NaN</td>\n      <td>5</td>\n      <td>1.000</td>\n      <td>100</td>\n      <td>期权卖方交易保证金中涉及标的期货合约的公司交易保证金按照对应的期货合约保证金标准收取</td>\n      <td>NaN</td>\n    </tr>\n    <tr>\n      <th>4</th>\n      <td>上期所</td>\n      <td>锌</td>\n      <td>ZN</td>\n      <td>23.0</td>\n      <td>12.0</td>\n      <td>5</td>\n      <td>5.000</td>\n      <td>500</td>\n      <td>NaN</td>\n      <td>NaN</td>\n    </tr>\n    <tr>\n      <th>...</th>\n      <td>...</td>\n      <td>...</td>\n      <td>...</td>\n      <td>...</td>\n      <td>...</td>\n      <td>...</td>\n      <td>...</td>\n      <td>...</td>\n      <td>...</td>\n      <td>...</td>\n    </tr>\n    <tr>\n      <th>93</th>\n      <td>中金所</td>\n      <td>沪深300股指期权</td>\n      <td>IO</td>\n      <td>NaN</td>\n      <td>NaN</td>\n      <td>100</td>\n      <td>0.200</td>\n      <td>20</td>\n      <td>保证金调整系数为14%，最低保障系数为0.5</td>\n      <td>NaN</td>\n    </tr>\n    <tr>\n      <th>94</th>\n      <td>中金所</td>\n      <td>中证1000股指期权</td>\n      <td>MO</td>\n      <td>NaN</td>\n      <td>NaN</td>\n      <td>100</td>\n      <td>0.200</td>\n      <td>20</td>\n      <td>保证金调整系数为17%，最低保障系数为0.5</td>\n      <td>NaN</td>\n    </tr>\n    <tr>\n      <th>95</th>\n      <td>中金所</td>\n      <td>2年期国债</td>\n      <td>TS</td>\n      <td>0.8</td>\n      <td>0.5</td>\n      <td>20000</td>\n      <td>0.005</td>\n      <td>50</td>\n      <td>NaN</td>\n      <td>NaN</td>\n    </tr>\n    <tr>\n      <th>96</th>\n      <td>中金所</td>\n      <td>5年期国债</td>\n      <td>TF</td>\n      <td>1.7</td>\n      <td>1.2</td>\n      <td>10000</td>\n      <td>0.005</td>\n      <td>50</td>\n      <td>NaN</td>\n      <td>NaN</td>\n    </tr>\n    <tr>\n      <th>97</th>\n      <td>中金所</td>\n      <td>10年期国债</td>\n      <td>T</td>\n      <td>2.5</td>\n      <td>2.0</td>\n      <td>10000</td>\n      <td>0.005</td>\n      <td>50</td>\n      <td>NaN</td>\n      <td>NaN</td>\n    </tr>\n  </tbody>\n</table>\n<p>98 rows × 10 columns</p>\n</div>"
     },
     "execution_count": 4,
     "metadata": {},
     "output_type": "execute_result"
    }
   ],
   "source": [
    "futures_rule_df = ak.futures_rule(date=\"20220921\")\n",
    "futures_rule_df"
   ],
   "metadata": {
    "collapsed": false,
    "pycharm": {
     "name": "#%%\n"
    }
   }
  },
  {
   "cell_type": "markdown",
   "source": [
    "### 库存数据-99期货网"
   ],
   "metadata": {
    "collapsed": false
   }
  },
  {
   "cell_type": "code",
   "execution_count": null,
   "outputs": [],
   "source": [
    "futures_inventory_99_df = ak.futures_inventory_99(exchange=\"大连商品交易所\", symbol=\"豆一\")\n",
    "futures_inventory_99_df"
   ],
   "metadata": {
    "collapsed": false,
    "pycharm": {
     "name": "#%%\n",
     "is_executing": true
    }
   }
  },
  {
   "cell_type": "markdown",
   "source": [
    "### 库存数据-东方财富"
   ],
   "metadata": {
    "collapsed": false,
    "pycharm": {
     "name": "#%% md\n"
    }
   }
  },
  {
   "cell_type": "code",
   "execution_count": null,
   "outputs": [],
   "source": [
    "futures_inventory_em_df = ak.futures_inventory_em(exchange=\"大连商品交易所\", symbol=\"豆一\")\n",
    "print(futures_inventory_em_df)\n"
   ],
   "metadata": {
    "collapsed": false,
    "pycharm": {
     "name": "#%%\n",
     "is_executing": true
    }
   }
  }
 ],
 "metadata": {
  "kernelspec": {
   "display_name": "Python 3",
   "language": "python",
   "name": "python3"
  },
  "language_info": {
   "codemirror_mode": {
    "name": "ipython",
    "version": 2
   },
   "file_extension": ".py",
   "mimetype": "text/x-python",
   "name": "python",
   "nbconvert_exporter": "python",
   "pygments_lexer": "ipython2",
   "version": "2.7.6"
  }
 },
 "nbformat": 4,
 "nbformat_minor": 0
}