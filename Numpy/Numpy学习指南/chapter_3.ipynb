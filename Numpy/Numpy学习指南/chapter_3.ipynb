{
 "cells": [
  {
   "cell_type": "markdown",
   "metadata": {
    "collapsed": true,
    "pycharm": {
     "name": "#%% md\n"
    }
   },
   "source": [
    "## 常用函数"
   ]
  },
  {
   "cell_type": "code",
   "execution_count": 1,
   "outputs": [],
   "source": [
    "import numpy as np"
   ],
   "metadata": {
    "collapsed": false,
    "pycharm": {
     "name": "#%%\n"
    }
   }
  },
  {
   "cell_type": "markdown",
   "source": [
    "### 文件读写"
   ],
   "metadata": {
    "collapsed": false
   }
  },
  {
   "cell_type": "code",
   "execution_count": 10,
   "outputs": [],
   "source": [
    "# savetxt()函数\n",
    "a = np.eye(2)\n",
    "np.savetxt(fname=\"./dataset/eye.txt\", X=a, fmt=\"%.2f\")"
   ],
   "metadata": {
    "collapsed": false,
    "pycharm": {
     "name": "#%%\n"
    }
   }
  },
  {
   "cell_type": "code",
   "execution_count": 12,
   "outputs": [
    {
     "name": "stdout",
     "output_type": "stream",
     "text": [
      "[336.1  339.32 345.03 344.32 343.44 346.5  351.88 355.2  358.16 354.54\n",
      " 356.85 359.18 359.9  363.13 358.3  350.56 338.61 342.62 342.88 348.16\n",
      " 353.21 349.31 352.12 359.56 360.   355.36 355.76 352.47 346.67 351.99] [21144800. 13473000. 15236800.  9242600. 14064100. 11494200. 17322100.\n",
      " 13608500. 17240800. 33162400. 13127500. 11086200. 10149000. 17184100.\n",
      " 18949000. 29144500. 31162200. 23994700. 17853500. 13572000. 14395400.\n",
      " 16290300. 21521000. 17885200. 16188000. 19504300. 12718000. 16192700.\n",
      " 18138800. 16824200.]\n"
     ]
    }
   ],
   "source": [
    "# 加载csv文件\n",
    "c, v = np.loadtxt(fname=\"dataset/data.csv\", delimiter=\",\", usecols=(6, 7), unpack=True)\n",
    "print(c, v)"
   ],
   "metadata": {
    "collapsed": false,
    "pycharm": {
     "name": "#%%\n"
    }
   }
  },
  {
   "cell_type": "code",
   "execution_count": 13,
   "outputs": [
    {
     "data": {
      "text/plain": "350.5895493532009"
     },
     "execution_count": 13,
     "metadata": {},
     "output_type": "execute_result"
    }
   ],
   "source": [
    "# 计算成交量加权平均价\n",
    "vwap = np.average(c, weights=v)\n",
    "vwap"
   ],
   "metadata": {
    "collapsed": false,
    "pycharm": {
     "name": "#%%\n"
    }
   }
  },
  {
   "cell_type": "code",
   "execution_count": 14,
   "outputs": [
    {
     "data": {
      "text/plain": "351.0376666666667"
     },
     "execution_count": 14,
     "metadata": {},
     "output_type": "execute_result"
    }
   ],
   "source": [
    "# 算术平均值\n",
    "mean = np.mean(c)\n",
    "mean"
   ],
   "metadata": {
    "collapsed": false,
    "pycharm": {
     "name": "#%%\n"
    }
   }
  },
  {
   "cell_type": "code",
   "execution_count": 16,
   "outputs": [
    {
     "data": {
      "text/plain": "352.4283218390804"
     },
     "execution_count": 16,
     "metadata": {},
     "output_type": "execute_result"
    }
   ],
   "source": [
    "# 时间加权平均\n",
    "twap = np.average(c, weights=np.arange(len(c)))\n",
    "twap"
   ],
   "metadata": {
    "collapsed": false,
    "pycharm": {
     "name": "#%%\n"
    }
   }
  },
  {
   "cell_type": "markdown",
   "source": [
    "### 最大值和最小值"
   ],
   "metadata": {
    "collapsed": false,
    "pycharm": {
     "name": "#%% md\n"
    }
   }
  },
  {
   "cell_type": "code",
   "execution_count": 17,
   "outputs": [
    {
     "data": {
      "text/plain": "array([344.4 , 340.04, 345.65, 345.25, 344.24, 346.7 , 353.25, 355.52,\n       359.  , 360.  , 357.8 , 359.48, 359.97, 364.9 , 360.27, 359.5 ,\n       345.4 , 344.64, 345.15, 348.43, 355.05, 355.72, 354.35, 359.79,\n       360.29, 361.67, 357.4 , 354.76, 349.77, 352.32])"
     },
     "execution_count": 17,
     "metadata": {},
     "output_type": "execute_result"
    }
   ],
   "source": [
    "h, l = np.loadtxt(fname=\"dataset/data.csv\", delimiter=\",\", usecols=(4, 5), unpack=True)\n",
    "h"
   ],
   "metadata": {
    "collapsed": false,
    "pycharm": {
     "name": "#%%\n"
    }
   }
  },
  {
   "cell_type": "code",
   "execution_count": 19,
   "outputs": [
    {
     "data": {
      "text/plain": "364.9"
     },
     "execution_count": 19,
     "metadata": {},
     "output_type": "execute_result"
    }
   ],
   "source": [
    "# 最大值\n",
    "highest = np.max(h)\n",
    "highest"
   ],
   "metadata": {
    "collapsed": false,
    "pycharm": {
     "name": "#%%\n"
    }
   }
  },
  {
   "cell_type": "code",
   "execution_count": 20,
   "outputs": [
    {
     "data": {
      "text/plain": "333.53"
     },
     "execution_count": 20,
     "metadata": {},
     "output_type": "execute_result"
    }
   ],
   "source": [
    "# 最小值\n",
    "lowest = np.min(l)\n",
    "lowest"
   ],
   "metadata": {
    "collapsed": false,
    "pycharm": {
     "name": "#%%\n"
    }
   }
  },
  {
   "cell_type": "code",
   "execution_count": 21,
   "outputs": [
    {
     "data": {
      "text/plain": "24.859999999999957"
     },
     "execution_count": 21,
     "metadata": {},
     "output_type": "execute_result"
    }
   ],
   "source": [
    "# 计算极差(最大值减去最小值)\n",
    "ptp = np.ptp(h)\n",
    "ptp"
   ],
   "metadata": {
    "collapsed": false,
    "pycharm": {
     "name": "#%%\n"
    }
   }
  },
  {
   "cell_type": "code",
   "execution_count": 22,
   "outputs": [
    {
     "data": {
      "text/plain": "array([336.1 , 339.32, 345.03, 344.32, 343.44, 346.5 , 351.88, 355.2 ,\n       358.16, 354.54, 356.85, 359.18, 359.9 , 363.13, 358.3 , 350.56,\n       338.61, 342.62, 342.88, 348.16, 353.21, 349.31, 352.12, 359.56,\n       360.  , 355.36, 355.76, 352.47, 346.67, 351.99])"
     },
     "execution_count": 22,
     "metadata": {},
     "output_type": "execute_result"
    }
   ],
   "source": [
    "c = np.loadtxt(fname=\"dataset/data.csv\", delimiter=\",\", usecols=(6,), unpack=True)\n",
    "c"
   ],
   "metadata": {
    "collapsed": false,
    "pycharm": {
     "name": "#%%\n"
    }
   }
  },
  {
   "cell_type": "code",
   "execution_count": 23,
   "outputs": [
    {
     "data": {
      "text/plain": "352.055"
     },
     "execution_count": 23,
     "metadata": {},
     "output_type": "execute_result"
    }
   ],
   "source": [
    "# 获取中位数\n",
    "median = np.median(c)\n",
    "median"
   ],
   "metadata": {
    "collapsed": false,
    "pycharm": {
     "name": "#%%\n"
    }
   }
  },
  {
   "cell_type": "code",
   "execution_count": 25,
   "outputs": [
    {
     "data": {
      "text/plain": "array([336.1 , 338.61, 339.32, 342.62, 342.88, 343.44, 344.32, 345.03,\n       346.5 , 346.67, 348.16, 349.31, 350.56, 351.88, 351.99, 352.12,\n       352.47, 353.21, 354.54, 355.2 , 355.36, 355.76, 356.85, 358.16,\n       358.3 , 359.18, 359.56, 359.9 , 360.  , 363.13])"
     },
     "execution_count": 25,
     "metadata": {},
     "output_type": "execute_result"
    }
   ],
   "source": [
    "# 排序\n",
    "sorted_close = np.msort(c)\n",
    "sorted_close"
   ],
   "metadata": {
    "collapsed": false,
    "pycharm": {
     "name": "#%%\n"
    }
   }
  },
  {
   "cell_type": "code",
   "execution_count": 26,
   "outputs": [
    {
     "data": {
      "text/plain": "352.12"
     },
     "execution_count": 26,
     "metadata": {},
     "output_type": "execute_result"
    }
   ],
   "source": [
    "middle = sorted_close[(len(c)) // 2]\n",
    "middle"
   ],
   "metadata": {
    "collapsed": false,
    "pycharm": {
     "name": "#%%\n"
    }
   }
  },
  {
   "cell_type": "code",
   "execution_count": 27,
   "outputs": [
    {
     "data": {
      "text/plain": "50.126517888888884"
     },
     "execution_count": 27,
     "metadata": {},
     "output_type": "execute_result"
    }
   ],
   "source": [
    "# 方差\n",
    "variance = np.var(c)\n",
    "variance\n"
   ],
   "metadata": {
    "collapsed": false,
    "pycharm": {
     "name": "#%%\n"
    }
   }
  }
 ],
 "metadata": {
  "kernelspec": {
   "display_name": "Python 3",
   "language": "python",
   "name": "python3"
  },
  "language_info": {
   "codemirror_mode": {
    "name": "ipython",
    "version": 2
   },
   "file_extension": ".py",
   "mimetype": "text/x-python",
   "name": "python",
   "nbconvert_exporter": "python",
   "pygments_lexer": "ipython2",
   "version": "2.7.6"
  }
 },
 "nbformat": 4,
 "nbformat_minor": 0
}