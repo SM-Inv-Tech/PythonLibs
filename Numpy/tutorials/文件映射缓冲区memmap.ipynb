{
 "cells": [
  {
   "cell_type": "markdown",
   "source": [
    "Numpy库memmap函数学习"
   ],
   "metadata": {
    "collapsed": false,
    "pycharm": {
     "name": "#%% md\n"
    }
   }
  },
  {
   "cell_type": "code",
   "execution_count": 1,
   "metadata": {
    "collapsed": true,
    "pycharm": {
     "name": "#%%\n"
    }
   },
   "outputs": [],
   "source": [
    "import numpy as np\n",
    "\n",
    "\n",
    "def write():\n",
    "    file = np.memmap(\"memmap.dat\", dtype=\"float32\", mode=\"w+\", shape=(3, 4))\n",
    "    print(\"写初始化:\\n{}\".format(file))\n",
    "\n",
    "    data = np.arange(12, dtype=\"float32\")\n",
    "    data.resize((3, 4))\n",
    "    file[:] = data[:]\n",
    "    print(\"写结束:\\n{}\".format(file))\n",
    "\n",
    "    file.flush()\n",
    "\n",
    "def read():\n",
    "    file = np.memmap(\"memmap.dat\", dtype=\"float32\", mode=\"r\", shape=(3, 4))\n",
    "    print(\"读:\\n{}\".format(file))"
   ]
  },
  {
   "cell_type": "code",
   "execution_count": 2,
   "outputs": [
    {
     "name": "stdout",
     "output_type": "stream",
     "text": [
      "写初始化:\n",
      "[[0. 0. 0. 0.]\n",
      " [0. 0. 0. 0.]\n",
      " [0. 0. 0. 0.]]\n",
      "写结束:\n",
      "[[ 0.  1.  2.  3.]\n",
      " [ 4.  5.  6.  7.]\n",
      " [ 8.  9. 10. 11.]]\n",
      "读:\n",
      "[[ 0.  1.  2.  3.]\n",
      " [ 4.  5.  6.  7.]\n",
      " [ 8.  9. 10. 11.]]\n"
     ]
    }
   ],
   "source": [
    "write()\n",
    "read()"
   ],
   "metadata": {
    "collapsed": false,
    "pycharm": {
     "name": "#%%\n"
    }
   }
  }
 ],
 "metadata": {
  "kernelspec": {
   "display_name": "Python 3",
   "language": "python",
   "name": "python3"
  },
  "language_info": {
   "codemirror_mode": {
    "name": "ipython",
    "version": 2
   },
   "file_extension": ".py",
   "mimetype": "text/x-python",
   "name": "python",
   "nbconvert_exporter": "python",
   "pygments_lexer": "ipython2",
   "version": "2.7.6"
  }
 },
 "nbformat": 4,
 "nbformat_minor": 0
}